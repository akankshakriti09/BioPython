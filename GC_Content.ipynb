{
 "cells": [
  {
   "cell_type": "markdown",
   "metadata": {},
   "source": [
    "#### Calculate GC Content of a sequence in a single fasta file"
   ]
  },
  {
   "cell_type": "markdown",
   "metadata": {},
   "source": [
    "**Activities**\n",
    "- Download fasta file from NCBI Database\n",
    "- Read fasta file\n",
    "- Calculate GC Content\n",
    "\n",
    "**Python Library**\n",
    "- Biopython"
   ]
  },
  {
   "cell_type": "code",
   "execution_count": 1,
   "metadata": {},
   "outputs": [],
   "source": [
    "filename = \"D:/Bionome Internship/Bioinformatics Practicals/BioPython/sequence_mycobacterium.fasta\""
   ]
  },
  {
   "cell_type": "code",
   "execution_count": 3,
   "metadata": {},
   "outputs": [],
   "source": [
    "from Bio import SeqIO\n",
    "from Bio.SeqUtils import gc_fraction"
   ]
  },
  {
   "cell_type": "code",
   "execution_count": 4,
   "metadata": {},
   "outputs": [],
   "source": [
    "seq_object = SeqIO.read(filename, \"fasta\")\n",
    "sequence = seq_object.seq"
   ]
  },
  {
   "cell_type": "code",
   "execution_count": 5,
   "metadata": {},
   "outputs": [
    {
     "data": {
      "text/plain": [
       "5631606"
      ]
     },
     "execution_count": 5,
     "metadata": {},
     "output_type": "execute_result"
    }
   ],
   "source": [
    "len(sequence)"
   ]
  },
  {
   "cell_type": "code",
   "execution_count": 7,
   "metadata": {},
   "outputs": [
    {
     "name": "stdout",
     "output_type": "stream",
     "text": [
      "TTGACCAATGACCCCGGTTC\n"
     ]
    }
   ],
   "source": [
    "print(sequence[0:20])"
   ]
  },
  {
   "cell_type": "code",
   "execution_count": 13,
   "metadata": {},
   "outputs": [
    {
     "name": "stdout",
     "output_type": "stream",
     "text": [
      "0.6547269109380166\n"
     ]
    }
   ],
   "source": [
    "gc_content = gc_fraction(sequence)\n",
    "print(gc_content)"
   ]
  },
  {
   "cell_type": "code",
   "execution_count": 15,
   "metadata": {},
   "outputs": [
    {
     "name": "stdout",
     "output_type": "stream",
     "text": [
      "65.47269109380166\n"
     ]
    }
   ],
   "source": [
    "print(gc_content * 100)"
   ]
  },
  {
   "cell_type": "code",
   "execution_count": 17,
   "metadata": {},
   "outputs": [
    {
     "data": {
      "text/plain": [
       "65.47"
      ]
     },
     "execution_count": 17,
     "metadata": {},
     "output_type": "execute_result"
    }
   ],
   "source": [
    "round(gc_content * 100, 2)"
   ]
  },
  {
   "cell_type": "code",
   "execution_count": 25,
   "metadata": {},
   "outputs": [
    {
     "data": {
      "text/plain": [
       "0.5714285714285714"
      ]
     },
     "execution_count": 25,
     "metadata": {},
     "output_type": "execute_result"
    }
   ],
   "source": [
    "#Create own custome sequence\n",
    "sequence2 = \"AGCCTAC\"\n",
    "gc_fraction(sequence2)"
   ]
  },
  {
   "cell_type": "markdown",
   "metadata": {},
   "source": [
    "#### Calculate GC Content of a sequence in a multiple fasta file\n",
    "\n",
    "**Python Libraries**\n",
    "- Biopython ( pip install biopython --user )\n",
    "- Pandas ( pip install pandas --user )"
   ]
  },
  {
   "cell_type": "code",
   "execution_count": 65,
   "metadata": {},
   "outputs": [],
   "source": [
    "# Import Libraries\n",
    "\n",
    "from Bio import SeqIO\n",
    "from Bio.SeqUtils import gc_fraction\n",
    "import pandas as pd"
   ]
  },
  {
   "cell_type": "code",
   "execution_count": 66,
   "metadata": {},
   "outputs": [],
   "source": [
    "# Set file path\n",
    "\n",
    "filepath = \"D:/Bionome Internship/Bioinformatics Practicals/BioPython/multi-fasta.fasta\""
   ]
  },
  {
   "cell_type": "code",
   "execution_count": 67,
   "metadata": {},
   "outputs": [],
   "source": [
    "# Read Fasta File\n",
    "\n",
    "seq_objects = SeqIO.parse(filepath, 'fasta')"
   ]
  },
  {
   "cell_type": "code",
   "execution_count": 68,
   "metadata": {},
   "outputs": [],
   "source": [
    "sequences = [seq for seq in seq_objects]"
   ]
  },
  {
   "cell_type": "code",
   "execution_count": 69,
   "metadata": {},
   "outputs": [
    {
     "name": "stdout",
     "output_type": "stream",
     "text": [
      "3\n"
     ]
    }
   ],
   "source": [
    "number_of_sequences = len(sequences)\n",
    "print(number_of_sequences)"
   ]
  },
  {
   "cell_type": "code",
   "execution_count": 74,
   "metadata": {},
   "outputs": [
    {
     "name": "stdout",
     "output_type": "stream",
     "text": [
      "SeqID_01 34.58\n",
      "SeqID_02 34.21\n",
      "SeqID_03 40.91\n"
     ]
    }
   ],
   "source": [
    "for seq in sequences:\n",
    "    seq_id = seq.id\n",
    "    sequence = seq.seq \n",
    "    gc_content = gc_fraction(sequence) * 100  \n",
    "    print(f\"{seq_id} {round(gc_content, 2)}\")  "
   ]
  },
  {
   "cell_type": "code",
   "execution_count": 75,
   "metadata": {},
   "outputs": [
    {
     "name": "stdout",
     "output_type": "stream",
     "text": [
      "GC Content has been computed\n",
      "GC Content has been computed\n",
      "GC Content has been computed\n"
     ]
    }
   ],
   "source": [
    "# Using Pandas to store analysis result\n",
    "\n",
    "seq_ids = []\n",
    "gc_contents = []\n",
    "\n",
    "for seq in sequences:\n",
    "    seq_id = seq.id\n",
    "    sequence = seq.seq\n",
    "    gc_content = gc_fraction(sequence) * 100\n",
    "    gc_content = round(gc_content, 2)\n",
    "\n",
    "    seq_ids.append(seq_id)\n",
    "    gc_contents.append(gc_content)\n",
    "    print(\"GC Content has been computed\")"
   ]
  },
  {
   "cell_type": "code",
   "execution_count": 76,
   "metadata": {},
   "outputs": [
    {
     "name": "stdout",
     "output_type": "stream",
     "text": [
      "['SeqID_01', 'SeqID_02', 'SeqID_03']\n"
     ]
    }
   ],
   "source": [
    "print(seq_ids)"
   ]
  },
  {
   "cell_type": "code",
   "execution_count": 77,
   "metadata": {},
   "outputs": [
    {
     "name": "stdout",
     "output_type": "stream",
     "text": [
      "[34.58, 34.21, 40.91]\n"
     ]
    }
   ],
   "source": [
    "print(gc_contents)"
   ]
  },
  {
   "cell_type": "code",
   "execution_count": 78,
   "metadata": {},
   "outputs": [
    {
     "name": "stdout",
     "output_type": "stream",
     "text": [
      "SeqID_01\n",
      "34.58\n"
     ]
    }
   ],
   "source": [
    "print(seq_ids[0])\n",
    "print(gc_contents[0])"
   ]
  },
  {
   "cell_type": "code",
   "execution_count": 79,
   "metadata": {},
   "outputs": [],
   "source": [
    "# Create pandas dataframe\n",
    "\n",
    "dataframe = pd.DataFrame()\n",
    "dataframe['Sequence_ID'] = seq_ids\n",
    "dataframe['GC_Content'] = gc_contents"
   ]
  },
  {
   "cell_type": "code",
   "execution_count": 80,
   "metadata": {},
   "outputs": [
    {
     "name": "stdout",
     "output_type": "stream",
     "text": [
      "(3, 2)\n"
     ]
    }
   ],
   "source": [
    "print(dataframe.shape)"
   ]
  },
  {
   "cell_type": "code",
   "execution_count": 81,
   "metadata": {},
   "outputs": [
    {
     "name": "stdout",
     "output_type": "stream",
     "text": [
      "  Sequence_ID  GC_Content\n",
      "0    SeqID_01       34.58\n",
      "1    SeqID_02       34.21\n",
      "2    SeqID_03       40.91\n"
     ]
    }
   ],
   "source": [
    "print(dataframe)"
   ]
  },
  {
   "cell_type": "code",
   "execution_count": 84,
   "metadata": {},
   "outputs": [],
   "source": [
    "# Save dataframe to output file\n",
    "\n",
    "output_file = \"D:/Bionome Internship/Bioinformatics Practicals/BioPython/gc_content.csv\"\n",
    "dataframe.to_csv(output_file, index=False)"
   ]
  },
  {
   "cell_type": "markdown",
   "metadata": {},
   "source": [
    "#### GC Content of sequences in multiple fasta files\n",
    "\n",
    "- Download multiple fasta files\n",
    "- Use loops to\n",
    "    - read files\n",
    "    - calculate GC content\n",
    "- Save result to a file\n",
    "\n",
    "- Required Libraries\n",
    "    - Biopython\n",
    "    - Pandas"
   ]
  },
  {
   "cell_type": "code",
   "execution_count": 4,
   "metadata": {},
   "outputs": [],
   "source": [
    "from Bio import SeqIO\n",
    "from Bio.SeqUtils import gc_fraction\n",
    "import pandas as pd\n",
    "import os\n",
    "import glob"
   ]
  },
  {
   "cell_type": "code",
   "execution_count": 5,
   "metadata": {},
   "outputs": [],
   "source": [
    "# Set directory of fasta files\n",
    "\n",
    "file_directory = \"D:/Bionome Internship/Bioinformatics Practicals/BioPython/FastaFiles\""
   ]
  },
  {
   "cell_type": "code",
   "execution_count": 6,
   "metadata": {},
   "outputs": [],
   "source": [
    "fasta_files = glob.glob('%s/*.fasta'%file_directory)"
   ]
  },
  {
   "cell_type": "code",
   "execution_count": 7,
   "metadata": {},
   "outputs": [
    {
     "data": {
      "text/plain": [
       "5"
      ]
     },
     "execution_count": 7,
     "metadata": {},
     "output_type": "execute_result"
    }
   ],
   "source": [
    "len(fasta_files)"
   ]
  },
  {
   "cell_type": "code",
   "execution_count": 8,
   "metadata": {},
   "outputs": [
    {
     "data": {
      "text/plain": [
       "'D:/Bionome Internship/Bioinformatics Practicals/BioPython/FastaFiles\\\\AR465.fasta'"
      ]
     },
     "execution_count": 8,
     "metadata": {},
     "output_type": "execute_result"
    }
   ],
   "source": [
    "fasta_files[0]"
   ]
  },
  {
   "cell_type": "code",
   "execution_count": 9,
   "metadata": {},
   "outputs": [
    {
     "name": "stdout",
     "output_type": "stream",
     "text": [
      "['D:/Bionome Internship/Bioinformatics Practicals/BioPython/FastaFiles\\\\AR465.fasta', 'D:/Bionome Internship/Bioinformatics Practicals/BioPython/FastaFiles\\\\M48.fasta', 'D:/Bionome Internship/Bioinformatics Practicals/BioPython/FastaFiles\\\\P10.fasta', 'D:/Bionome Internship/Bioinformatics Practicals/BioPython/FastaFiles\\\\R50.fasta', 'D:/Bionome Internship/Bioinformatics Practicals/BioPython/FastaFiles\\\\V521.fasta']\n"
     ]
    }
   ],
   "source": [
    "print(fasta_files)"
   ]
  },
  {
   "cell_type": "code",
   "execution_count": 11,
   "metadata": {},
   "outputs": [],
   "source": [
    "# Create a function for the sequence analysis codes\n",
    "\n",
    "def calculate_gc(fasta):\n",
    "    seq_obj = SeqIO.read(fasta, 'fasta')\n",
    "    sequence = seq_obj.seq\n",
    "\n",
    "    gc_content = gc_fraction(sequence) * 100\n",
    "    gc_content = round(gc_content, 2)\n",
    "\n",
    "    filename = os.path.split(fasta)\n",
    "    filename = filename[1]\n",
    "    filename = filename.strip('.fasta')"
   ]
  },
  {
   "cell_type": "code",
   "execution_count": 12,
   "metadata": {},
   "outputs": [
    {
     "name": "stdout",
     "output_type": "stream",
     "text": [
      "AR465\n",
      "32.92\n",
      "M48\n",
      "32.81\n",
      "P10\n",
      "32.71\n",
      "R50\n",
      "32.91\n",
      "V521\n",
      "32.81\n"
     ]
    }
   ],
   "source": [
    "for fasta in fasta_files:\n",
    "    calculate_gc(fasta)"
   ]
  },
  {
   "cell_type": "code",
   "execution_count": 14,
   "metadata": {},
   "outputs": [],
   "source": [
    "filenames = []\n",
    "gc_contents = []"
   ]
  },
  {
   "cell_type": "code",
   "execution_count": 15,
   "metadata": {},
   "outputs": [],
   "source": [
    "# Create a function for the sequence analysis codes\n",
    "\n",
    "def calculate_gc(fasta):\n",
    "    seq_obj = SeqIO.read(fasta, 'fasta')\n",
    "    sequence = seq_obj.seq\n",
    "\n",
    "    gc_content = gc_fraction(sequence) * 100\n",
    "    gc_content = round(gc_content, 2)\n",
    "\n",
    "    filename = os.path.split(fasta)\n",
    "    filename = filename[1]\n",
    "    filename = filename.strip('.fasta')\n",
    "\n",
    "    print(\"GC Content has been calculated\")\n",
    "    return filename, gc_content"
   ]
  },
  {
   "cell_type": "code",
   "execution_count": 16,
   "metadata": {},
   "outputs": [
    {
     "name": "stdout",
     "output_type": "stream",
     "text": [
      "GC Content has been calculated\n",
      "GC Content has been calculated\n",
      "GC Content has been calculated\n",
      "GC Content has been calculated\n",
      "GC Content has been calculated\n"
     ]
    }
   ],
   "source": [
    "for fasta in fasta_files:\n",
    "    filename, gc_content = calculate_gc(fasta)\n",
    "\n",
    "    filenames.append(filename)\n",
    "    gc_contents.append(gc_content)"
   ]
  },
  {
   "cell_type": "code",
   "execution_count": 17,
   "metadata": {},
   "outputs": [
    {
     "data": {
      "text/plain": [
       "5"
      ]
     },
     "execution_count": 17,
     "metadata": {},
     "output_type": "execute_result"
    }
   ],
   "source": [
    "len(filenames)"
   ]
  },
  {
   "cell_type": "code",
   "execution_count": 18,
   "metadata": {},
   "outputs": [
    {
     "data": {
      "text/plain": [
       "5"
      ]
     },
     "execution_count": 18,
     "metadata": {},
     "output_type": "execute_result"
    }
   ],
   "source": [
    "len(gc_contents)"
   ]
  },
  {
   "cell_type": "code",
   "execution_count": 19,
   "metadata": {},
   "outputs": [
    {
     "data": {
      "text/plain": [
       "'AR465'"
      ]
     },
     "execution_count": 19,
     "metadata": {},
     "output_type": "execute_result"
    }
   ],
   "source": [
    "filenames[0]"
   ]
  },
  {
   "cell_type": "code",
   "execution_count": 20,
   "metadata": {},
   "outputs": [
    {
     "data": {
      "text/plain": [
       "32.92"
      ]
     },
     "execution_count": 20,
     "metadata": {},
     "output_type": "execute_result"
    }
   ],
   "source": [
    "gc_contents[0]"
   ]
  },
  {
   "cell_type": "code",
   "execution_count": 21,
   "metadata": {},
   "outputs": [],
   "source": [
    "# Using Pandas to store analysis result\n",
    "\n",
    "dataframe = pd.DataFrame()\n",
    "dataframe['filename'] = filenames\n",
    "dataframe['gc_content'] = gc_contents"
   ]
  },
  {
   "cell_type": "code",
   "execution_count": 23,
   "metadata": {},
   "outputs": [
    {
     "data": {
      "text/plain": [
       "(5, 2)"
      ]
     },
     "execution_count": 23,
     "metadata": {},
     "output_type": "execute_result"
    }
   ],
   "source": [
    "dataframe.shape"
   ]
  },
  {
   "cell_type": "code",
   "execution_count": 24,
   "metadata": {},
   "outputs": [
    {
     "data": {
      "text/html": [
       "<div>\n",
       "<style scoped>\n",
       "    .dataframe tbody tr th:only-of-type {\n",
       "        vertical-align: middle;\n",
       "    }\n",
       "\n",
       "    .dataframe tbody tr th {\n",
       "        vertical-align: top;\n",
       "    }\n",
       "\n",
       "    .dataframe thead th {\n",
       "        text-align: right;\n",
       "    }\n",
       "</style>\n",
       "<table border=\"1\" class=\"dataframe\">\n",
       "  <thead>\n",
       "    <tr style=\"text-align: right;\">\n",
       "      <th></th>\n",
       "      <th>filename</th>\n",
       "      <th>gc_content</th>\n",
       "    </tr>\n",
       "  </thead>\n",
       "  <tbody>\n",
       "    <tr>\n",
       "      <th>0</th>\n",
       "      <td>AR465</td>\n",
       "      <td>32.92</td>\n",
       "    </tr>\n",
       "    <tr>\n",
       "      <th>1</th>\n",
       "      <td>M48</td>\n",
       "      <td>32.81</td>\n",
       "    </tr>\n",
       "    <tr>\n",
       "      <th>2</th>\n",
       "      <td>P10</td>\n",
       "      <td>32.71</td>\n",
       "    </tr>\n",
       "    <tr>\n",
       "      <th>3</th>\n",
       "      <td>R50</td>\n",
       "      <td>32.91</td>\n",
       "    </tr>\n",
       "    <tr>\n",
       "      <th>4</th>\n",
       "      <td>V521</td>\n",
       "      <td>32.81</td>\n",
       "    </tr>\n",
       "  </tbody>\n",
       "</table>\n",
       "</div>"
      ],
      "text/plain": [
       "  filename  gc_content\n",
       "0    AR465       32.92\n",
       "1      M48       32.81\n",
       "2      P10       32.71\n",
       "3      R50       32.91\n",
       "4     V521       32.81"
      ]
     },
     "execution_count": 24,
     "metadata": {},
     "output_type": "execute_result"
    }
   ],
   "source": [
    "dataframe.head()"
   ]
  },
  {
   "cell_type": "code",
   "execution_count": 25,
   "metadata": {},
   "outputs": [],
   "source": [
    "# Save dataframe to the output file\n",
    "\n",
    "outputfile = \"D:/Bionome Internship/Bioinformatics Practicals/BioPython/FastaFiles/gc_content.csv\"\n"
   ]
  },
  {
   "cell_type": "code",
   "execution_count": 27,
   "metadata": {},
   "outputs": [],
   "source": [
    "dataframe.to_csv(outputfile, index=False)"
   ]
  },
  {
   "cell_type": "code",
   "execution_count": null,
   "metadata": {},
   "outputs": [],
   "source": []
  }
 ],
 "metadata": {
  "kernelspec": {
   "display_name": "Python 3",
   "language": "python",
   "name": "python3"
  },
  "language_info": {
   "codemirror_mode": {
    "name": "ipython",
    "version": 3
   },
   "file_extension": ".py",
   "mimetype": "text/x-python",
   "name": "python",
   "nbconvert_exporter": "python",
   "pygments_lexer": "ipython3",
   "version": "3.12.5"
  }
 },
 "nbformat": 4,
 "nbformat_minor": 2
}
