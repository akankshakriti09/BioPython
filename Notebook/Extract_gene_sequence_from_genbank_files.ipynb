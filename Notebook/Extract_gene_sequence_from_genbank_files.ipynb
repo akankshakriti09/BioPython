{
 "cells": [
  {
   "cell_type": "markdown",
   "metadata": {},
   "source": [
    "#### Extract a Gene Sequence from a Genbank file using Python\n",
    "- Task\n",
    "    - Extract rpoB gene from a bacterial genome.\n",
    "- Python Library\n",
    "    - Biopython\n",
    "- Information required\n",
    "    - feature type (gene)\n",
    "    - gene name (rpoB)"
   ]
  },
  {
   "cell_type": "code",
   "execution_count": 1,
   "metadata": {},
   "outputs": [],
   "source": [
    "from Bio import SeqIO # type: ignore"
   ]
  },
  {
   "cell_type": "code",
   "execution_count": 2,
   "metadata": {},
   "outputs": [],
   "source": [
    "\n",
    "file_path = \"D:/Bionome Internship/Bioinformatics Practicals/BioPython/sequence.gb\""
   ]
  },
  {
   "cell_type": "code",
   "execution_count": 3,
   "metadata": {},
   "outputs": [],
   "source": [
    "# Read genbank file\n",
    "\n",
    "gb_obj = SeqIO.read(file_path, 'gb')"
   ]
  },
  {
   "cell_type": "code",
   "execution_count": 25,
   "metadata": {},
   "outputs": [],
   "source": [
    "# Subset all genes \n",
    "\n",
    "genes = []"
   ]
  },
  {
   "cell_type": "code",
   "execution_count": 26,
   "metadata": {},
   "outputs": [],
   "source": [
    "for feature in gb_obj.features:\n",
    "    if feature.type == 'gene':\n",
    "        genes.append(feature)"
   ]
  },
  {
   "cell_type": "code",
   "execution_count": 27,
   "metadata": {},
   "outputs": [
    {
     "data": {
      "text/plain": [
       "4981"
      ]
     },
     "execution_count": 27,
     "metadata": {},
     "output_type": "execute_result"
    }
   ],
   "source": [
    "len(genes)"
   ]
  },
  {
   "cell_type": "code",
   "execution_count": 28,
   "metadata": {},
   "outputs": [],
   "source": [
    "# Get the gene of interest\n",
    "\n",
    "gene_of_interest = 'rpoB'"
   ]
  },
  {
   "cell_type": "code",
   "execution_count": 29,
   "metadata": {},
   "outputs": [],
   "source": [
    "hits = []"
   ]
  },
  {
   "cell_type": "code",
   "execution_count": 30,
   "metadata": {},
   "outputs": [
    {
     "name": "stdout",
     "output_type": "stream",
     "text": [
      "gene found\n"
     ]
    }
   ],
   "source": [
    "for gene in genes:\n",
    "    if 'gene' in gene.qualifiers.keys():\n",
    "        if gene_of_interest == gene.qualifiers['gene'][0]:\n",
    "            hits.append(gene)\n",
    "            print('gene found')"
   ]
  },
  {
   "cell_type": "code",
   "execution_count": 31,
   "metadata": {},
   "outputs": [
    {
     "data": {
      "text/plain": [
       "1"
      ]
     },
     "execution_count": 31,
     "metadata": {},
     "output_type": "execute_result"
    }
   ],
   "source": [
    "len(hits)"
   ]
  },
  {
   "cell_type": "code",
   "execution_count": 32,
   "metadata": {},
   "outputs": [],
   "source": [
    "rpoB = hits[0]"
   ]
  },
  {
   "cell_type": "code",
   "execution_count": 33,
   "metadata": {},
   "outputs": [],
   "source": [
    "extracted_sequence = rpoB.extract(gb_obj)"
   ]
  },
  {
   "cell_type": "code",
   "execution_count": 34,
   "metadata": {},
   "outputs": [
    {
     "data": {
      "text/plain": [
       "3531"
      ]
     },
     "execution_count": 34,
     "metadata": {},
     "output_type": "execute_result"
    }
   ],
   "source": [
    "len(extracted_sequence.seq)"
   ]
  },
  {
   "cell_type": "code",
   "execution_count": 35,
   "metadata": {},
   "outputs": [],
   "source": [
    "extracted_sequence.id = 'rpoB'"
   ]
  },
  {
   "cell_type": "code",
   "execution_count": 36,
   "metadata": {},
   "outputs": [],
   "source": [
    "extracted_sequence.description = 'NCTC 8325'"
   ]
  },
  {
   "cell_type": "code",
   "execution_count": 37,
   "metadata": {},
   "outputs": [],
   "source": [
    "from Bio.SeqUtils import gc_fraction # type: ignore"
   ]
  },
  {
   "cell_type": "code",
   "execution_count": 38,
   "metadata": {},
   "outputs": [],
   "source": [
    "gc_content = gc_fraction(extracted_sequence.seq) * 100"
   ]
  },
  {
   "cell_type": "code",
   "execution_count": 39,
   "metadata": {},
   "outputs": [
    {
     "data": {
      "text/plain": [
       "64.59926366468423"
      ]
     },
     "execution_count": 39,
     "metadata": {},
     "output_type": "execute_result"
    }
   ],
   "source": [
    "gc_content"
   ]
  },
  {
   "cell_type": "code",
   "execution_count": 40,
   "metadata": {},
   "outputs": [
    {
     "data": {
      "text/plain": [
       "64.6"
      ]
     },
     "execution_count": 40,
     "metadata": {},
     "output_type": "execute_result"
    }
   ],
   "source": [
    "round(gc_content, 2)"
   ]
  },
  {
   "cell_type": "code",
   "execution_count": 41,
   "metadata": {},
   "outputs": [],
   "source": [
    "# Save Sequence to an output file\n",
    "\n",
    "output_file = \"D:/Bionome Internship/Bioinformatics Practicals/BioPython/rpob.fasta\""
   ]
  },
  {
   "cell_type": "code",
   "execution_count": 42,
   "metadata": {},
   "outputs": [
    {
     "data": {
      "text/plain": [
       "1"
      ]
     },
     "execution_count": 42,
     "metadata": {},
     "output_type": "execute_result"
    }
   ],
   "source": [
    "SeqIO.write(extracted_sequence, output_file, 'fasta')"
   ]
  },
  {
   "cell_type": "markdown",
   "metadata": {},
   "source": [
    "#### Extract Multiple Gene Sequences from a GenBank File\n",
    "- Task: Extract gene sequences from an E.coli genome\n",
    "- Requirement:\n",
    "    - A text file containing genes of interest\n",
    "    - Biopython"
   ]
  },
  {
   "cell_type": "code",
   "execution_count": 1,
   "metadata": {},
   "outputs": [],
   "source": [
    "genome_file = \"D:/Bionome Internship/Bioinformatics Practicals/BioPython/sequence_Ecoli.gb\"\n",
    "gene_list_file = \"D:/Bionome Internship/Bioinformatics Practicals/BioPython/gene_list.txt\""
   ]
  },
  {
   "cell_type": "code",
   "execution_count": 3,
   "metadata": {},
   "outputs": [],
   "source": [
    "from Bio import SeqIO # type: ignore"
   ]
  },
  {
   "cell_type": "code",
   "execution_count": 4,
   "metadata": {},
   "outputs": [],
   "source": [
    "# Get the gene names from the text file\n",
    "\n",
    "with open(gene_list_file, 'r') as input_file:\n",
    "    gene_names = [line.strip('\\n') for line in input_file]"
   ]
  },
  {
   "cell_type": "code",
   "execution_count": 5,
   "metadata": {},
   "outputs": [
    {
     "data": {
      "text/plain": [
       "28"
      ]
     },
     "execution_count": 5,
     "metadata": {},
     "output_type": "execute_result"
    }
   ],
   "source": [
    "len(gene_names)"
   ]
  },
  {
   "cell_type": "code",
   "execution_count": 8,
   "metadata": {},
   "outputs": [
    {
     "data": {
      "text/plain": [
       "['eae', 'ecpA', 'ecpB', 'ecpC', 'ecpD']"
      ]
     },
     "execution_count": 8,
     "metadata": {},
     "output_type": "execute_result"
    }
   ],
   "source": [
    "gene_names[0:5]"
   ]
  },
  {
   "cell_type": "code",
   "execution_count": 9,
   "metadata": {},
   "outputs": [],
   "source": [
    "# Read Genbank files\n",
    "\n",
    "gb_object = SeqIO.read(genome_file,'gb')"
   ]
  },
  {
   "cell_type": "code",
   "execution_count": 11,
   "metadata": {},
   "outputs": [],
   "source": [
    "# Subset all genes\n",
    "\n",
    "allgenes = [feature for feature in gb_object.features if feature.type == 'gene']"
   ]
  },
  {
   "cell_type": "code",
   "execution_count": 12,
   "metadata": {},
   "outputs": [
    {
     "data": {
      "text/plain": [
       "5329"
      ]
     },
     "execution_count": 12,
     "metadata": {},
     "output_type": "execute_result"
    }
   ],
   "source": [
    "len(allgenes)"
   ]
  },
  {
   "cell_type": "code",
   "execution_count": 13,
   "metadata": {},
   "outputs": [],
   "source": [
    "# Get the gene of interest\n",
    "\n",
    "gene_sequences = []"
   ]
  },
  {
   "cell_type": "code",
   "execution_count": 14,
   "metadata": {},
   "outputs": [
    {
     "name": "stdout",
     "output_type": "stream",
     "text": [
      "Gene ecpE has been found\n",
      "Gene ecpD has been found\n",
      "Gene ecpC has been found\n",
      "Gene ecpB has been found\n",
      "Gene ecpA has been found\n",
      "Gene ecpR has been found\n",
      "Gene paa has been found\n",
      "Gene lpfB has been found\n",
      "Gene espF has been found\n",
      "Gene escF has been found\n",
      "Gene cesD has been found\n",
      "Gene espB has been found\n",
      "Gene espD has been found\n",
      "Gene espA has been found\n",
      "Gene sepL has been found\n",
      "Gene escD has been found\n",
      "Gene eae has been found\n",
      "Gene tir has been found\n",
      "Gene escN has been found\n",
      "Gene escV has been found\n",
      "Gene escJ has been found\n",
      "Gene escC has been found\n",
      "Gene cesD has been found\n",
      "Gene escU has been found\n",
      "Gene escT has been found\n",
      "Gene escS has been found\n",
      "Gene ler has been found\n",
      "Gene lpfA has been found\n"
     ]
    }
   ],
   "source": [
    "for gene in allgenes:\n",
    "    if 'gene' in gene.qualifiers.keys():\n",
    "        gene_name = gene.qualifiers['gene'][0]\n",
    "        if gene_name in gene_names:\n",
    "            extract = gene.extract(gb_object)\n",
    "            extract.id = gene_name\n",
    "            extract.description = ''\n",
    "            gene_sequences.append(extract)\n",
    "            print('Gene %s has been found'%gene_name)"
   ]
  },
  {
   "cell_type": "code",
   "execution_count": 15,
   "metadata": {},
   "outputs": [
    {
     "data": {
      "text/plain": [
       "28"
      ]
     },
     "execution_count": 15,
     "metadata": {},
     "output_type": "execute_result"
    }
   ],
   "source": [
    "len(gene_sequences)"
   ]
  },
  {
   "cell_type": "code",
   "execution_count": 16,
   "metadata": {},
   "outputs": [],
   "source": [
    "# Save the extracted sequence to an output file\n",
    "\n",
    "output_file = \"D:/Bionome Internship/Bioinformatics Practicals/BioPython/gene_list_output.fasta\""
   ]
  },
  {
   "cell_type": "code",
   "execution_count": 17,
   "metadata": {},
   "outputs": [
    {
     "data": {
      "text/plain": [
       "28"
      ]
     },
     "execution_count": 17,
     "metadata": {},
     "output_type": "execute_result"
    }
   ],
   "source": [
    "SeqIO.write(gene_sequences, output_file, 'fasta')"
   ]
  }
 ],
 "metadata": {
  "kernelspec": {
   "display_name": "Python 3",
   "language": "python",
   "name": "python3"
  },
  "language_info": {
   "codemirror_mode": {
    "name": "ipython",
    "version": 3
   },
   "file_extension": ".py",
   "mimetype": "text/x-python",
   "name": "python",
   "nbconvert_exporter": "python",
   "pygments_lexer": "ipython3",
   "version": "3.12.5"
  }
 },
 "nbformat": 4,
 "nbformat_minor": 2
}
