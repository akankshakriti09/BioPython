{
 "cells": [
  {
   "cell_type": "markdown",
   "metadata": {},
   "source": [
    "#### Count features in a single GenBank Files\n",
    "\n",
    "- Libraries\n",
    "    - Biopython (pip install biopython --user)\n",
    "    - Pandas (pip install pandas -- user)\n",
    "- A publicly available data will be used"
   ]
  },
  {
   "cell_type": "code",
   "execution_count": 18,
   "metadata": {},
   "outputs": [],
   "source": [
    "from Bio import SeqIO # type: ignore\n",
    "import pandas as pd\n",
    "from collections import Counter"
   ]
  },
  {
   "cell_type": "code",
   "execution_count": 3,
   "metadata": {},
   "outputs": [],
   "source": [
    "file_path = \"D:/Bionome Internship/Bioinformatics Practicals/BioPython/M48.gb\""
   ]
  },
  {
   "cell_type": "code",
   "execution_count": 5,
   "metadata": {},
   "outputs": [],
   "source": [
    "genbank_object = SeqIO.read(file_path, 'gb')"
   ]
  },
  {
   "cell_type": "code",
   "execution_count": 6,
   "metadata": {},
   "outputs": [],
   "source": [
    "# Get the feature types\n",
    "\n",
    "all_features_types = [feature.type for feature in genbank_object.features]"
   ]
  },
  {
   "cell_type": "code",
   "execution_count": 7,
   "metadata": {},
   "outputs": [
    {
     "data": {
      "text/plain": [
       "6513"
      ]
     },
     "execution_count": 7,
     "metadata": {},
     "output_type": "execute_result"
    }
   ],
   "source": [
    "len(all_features_types)"
   ]
  },
  {
   "cell_type": "code",
   "execution_count": 9,
   "metadata": {},
   "outputs": [
    {
     "name": "stdout",
     "output_type": "stream",
     "text": [
      "{'CDS', 'regulatory', 'ncRNA', 'tRNA', 'source', 'tmRNA', 'rRNA', 'gene'}\n"
     ]
    }
   ],
   "source": [
    "feature_types = set(all_features_types)\n",
    "print(feature_types)"
   ]
  },
  {
   "cell_type": "code",
   "execution_count": 10,
   "metadata": {},
   "outputs": [
    {
     "data": {
      "text/plain": [
       "dict_keys(['source', 'gene', 'CDS', 'regulatory', 'tRNA', 'ncRNA', 'rRNA', 'tmRNA'])"
      ]
     },
     "execution_count": 10,
     "metadata": {},
     "output_type": "execute_result"
    }
   ],
   "source": [
    "# Count the feature types\n",
    "\n",
    "feature_counts = Counter(all_features_types)\n",
    "feature_counts.keys()"
   ]
  },
  {
   "cell_type": "code",
   "execution_count": 14,
   "metadata": {},
   "outputs": [
    {
     "data": {
      "text/plain": [
       "3251"
      ]
     },
     "execution_count": 14,
     "metadata": {},
     "output_type": "execute_result"
    }
   ],
   "source": [
    "feature_counts['gene']"
   ]
  },
  {
   "cell_type": "code",
   "execution_count": 12,
   "metadata": {},
   "outputs": [
    {
     "name": "stdout",
     "output_type": "stream",
     "text": [
      "source 1\n",
      "gene 3251\n",
      "CDS 3171\n",
      "regulatory 10\n",
      "tRNA 60\n",
      "ncRNA 3\n",
      "rRNA 16\n",
      "tmRNA 1\n"
     ]
    }
   ],
   "source": [
    "for key,value in feature_counts.items():\n",
    "    print(key,value)"
   ]
  },
  {
   "cell_type": "code",
   "execution_count": 15,
   "metadata": {},
   "outputs": [],
   "source": [
    "del feature_counts['source']\n",
    "del feature_counts['regulatory']"
   ]
  },
  {
   "cell_type": "code",
   "execution_count": 16,
   "metadata": {},
   "outputs": [
    {
     "data": {
      "text/plain": [
       "dict_keys(['gene', 'CDS', 'tRNA', 'ncRNA', 'rRNA', 'tmRNA'])"
      ]
     },
     "execution_count": 16,
     "metadata": {},
     "output_type": "execute_result"
    }
   ],
   "source": [
    "feature_counts.keys()"
   ]
  },
  {
   "cell_type": "code",
   "execution_count": 19,
   "metadata": {},
   "outputs": [],
   "source": [
    "# Save a result to output file\n",
    "\n",
    "dataframe = pd.DataFrame(feature_counts.items(),columns=['Feature', 'Count'])"
   ]
  },
  {
   "cell_type": "code",
   "execution_count": 20,
   "metadata": {},
   "outputs": [
    {
     "data": {
      "text/plain": [
       "(6, 2)"
      ]
     },
     "execution_count": 20,
     "metadata": {},
     "output_type": "execute_result"
    }
   ],
   "source": [
    "dataframe.shape"
   ]
  },
  {
   "cell_type": "code",
   "execution_count": 21,
   "metadata": {},
   "outputs": [
    {
     "data": {
      "text/html": [
       "<div>\n",
       "<style scoped>\n",
       "    .dataframe tbody tr th:only-of-type {\n",
       "        vertical-align: middle;\n",
       "    }\n",
       "\n",
       "    .dataframe tbody tr th {\n",
       "        vertical-align: top;\n",
       "    }\n",
       "\n",
       "    .dataframe thead th {\n",
       "        text-align: right;\n",
       "    }\n",
       "</style>\n",
       "<table border=\"1\" class=\"dataframe\">\n",
       "  <thead>\n",
       "    <tr style=\"text-align: right;\">\n",
       "      <th></th>\n",
       "      <th>Feature</th>\n",
       "      <th>Count</th>\n",
       "    </tr>\n",
       "  </thead>\n",
       "  <tbody>\n",
       "    <tr>\n",
       "      <th>0</th>\n",
       "      <td>gene</td>\n",
       "      <td>3251</td>\n",
       "    </tr>\n",
       "    <tr>\n",
       "      <th>1</th>\n",
       "      <td>CDS</td>\n",
       "      <td>3171</td>\n",
       "    </tr>\n",
       "    <tr>\n",
       "      <th>2</th>\n",
       "      <td>tRNA</td>\n",
       "      <td>60</td>\n",
       "    </tr>\n",
       "    <tr>\n",
       "      <th>3</th>\n",
       "      <td>ncRNA</td>\n",
       "      <td>3</td>\n",
       "    </tr>\n",
       "    <tr>\n",
       "      <th>4</th>\n",
       "      <td>rRNA</td>\n",
       "      <td>16</td>\n",
       "    </tr>\n",
       "    <tr>\n",
       "      <th>5</th>\n",
       "      <td>tmRNA</td>\n",
       "      <td>1</td>\n",
       "    </tr>\n",
       "  </tbody>\n",
       "</table>\n",
       "</div>"
      ],
      "text/plain": [
       "  Feature  Count\n",
       "0    gene   3251\n",
       "1     CDS   3171\n",
       "2    tRNA     60\n",
       "3   ncRNA      3\n",
       "4    rRNA     16\n",
       "5   tmRNA      1"
      ]
     },
     "execution_count": 21,
     "metadata": {},
     "output_type": "execute_result"
    }
   ],
   "source": [
    "dataframe"
   ]
  },
  {
   "cell_type": "code",
   "execution_count": 22,
   "metadata": {},
   "outputs": [],
   "source": [
    "outputfile = \"D:/Bionome Internship/Bioinformatics Practicals/BioPython/feature_count.csv\""
   ]
  },
  {
   "cell_type": "code",
   "execution_count": 23,
   "metadata": {},
   "outputs": [],
   "source": [
    "dataframe.to_csv(outputfile, index=False)"
   ]
  },
  {
   "cell_type": "markdown",
   "metadata": {},
   "source": [
    "#### Count features in multipe GenBank Files\n",
    "\n",
    "Activities\n",
    "- Download genbank files\n",
    "- Put all files in the same folder/directory\n",
    "- Count features using Biopython\n",
    "- Save the result for individual files to their respective output files\n",
    "- Combine all results and store in a single dataframe and save to a single output file\n",
    "\n",
    "Libraries\n",
    "- Biopython (pip install biopython --user)\n",
    "- Pandas (pip install pandas --user)"
   ]
  },
  {
   "cell_type": "markdown",
   "metadata": {},
   "source": []
  },
  {
   "cell_type": "code",
   "execution_count": 24,
   "metadata": {},
   "outputs": [],
   "source": [
    "import glob\n",
    "from Bio import SeqIO\n",
    "from collections import Counter\n",
    "import pandas as pd\n",
    "import os"
   ]
  },
  {
   "cell_type": "code",
   "execution_count": 29,
   "metadata": {},
   "outputs": [],
   "source": [
    "file_directory = \"D:/Bionome Internship/Bioinformatics Practicals/BioPython/GB Files\""
   ]
  },
  {
   "cell_type": "code",
   "execution_count": 30,
   "metadata": {},
   "outputs": [],
   "source": [
    "gfiles =  glob.glob(\"%s/*.gb\"%file_directory)"
   ]
  },
  {
   "cell_type": "code",
   "execution_count": 31,
   "metadata": {},
   "outputs": [
    {
     "data": {
      "text/plain": [
       "['D:/Bionome Internship/Bioinformatics Practicals/BioPython/GB Files\\\\AR465.gb',\n",
       " 'D:/Bionome Internship/Bioinformatics Practicals/BioPython/GB Files\\\\M48.gb',\n",
       " 'D:/Bionome Internship/Bioinformatics Practicals/BioPython/GB Files\\\\P10.gb',\n",
       " 'D:/Bionome Internship/Bioinformatics Practicals/BioPython/GB Files\\\\R50.gb',\n",
       " 'D:/Bionome Internship/Bioinformatics Practicals/BioPython/GB Files\\\\V521.gb']"
      ]
     },
     "execution_count": 31,
     "metadata": {},
     "output_type": "execute_result"
    }
   ],
   "source": [
    "gfiles"
   ]
  },
  {
   "cell_type": "code",
   "execution_count": 32,
   "metadata": {},
   "outputs": [
    {
     "name": "stdout",
     "output_type": "stream",
     "text": [
      "5\n"
     ]
    }
   ],
   "source": [
    "print(len(gfiles))"
   ]
  },
  {
   "cell_type": "code",
   "execution_count": 33,
   "metadata": {},
   "outputs": [
    {
     "data": {
      "text/plain": [
       "'D:/Bionome Internship/Bioinformatics Practicals/BioPython/GB Files\\\\AR465.gb'"
      ]
     },
     "execution_count": 33,
     "metadata": {},
     "output_type": "execute_result"
    }
   ],
   "source": [
    "gfiles[0]"
   ]
  },
  {
   "cell_type": "code",
   "execution_count": 34,
   "metadata": {},
   "outputs": [],
   "source": [
    "def count_features(gfile):\n",
    "    genbank_object = SeqIO.read(gfile, \"gb\")\n",
    "    features = genbank_object.features\n",
    "    feature_types = [feature.type for feature in features]\n",
    "    feature_count = Counter(feature_types)\n",
    "    print('Features have been counted')\n",
    "\n",
    "    dataframe = pd.DataFrame(feature_count.items(), columns=['Feature' , 'Count'])\n",
    "\n",
    "    directory, filename = os.path.split(gfile)\n",
    "    filename = filename.strip('.gb')\n",
    "\n",
    "    basedir = \"D:/Bionome Internship/Bioinformatics Practicals/BioPython/GB Files\"\n",
    "\n",
    "    outputfile = \"%s/%s.csv\"%(basedir, filename)\n",
    "\n",
    "    dataframe.to_csv(outputfile, index=False)\n",
    "\n",
    "    print('Count data has been saved')"
   ]
  },
  {
   "cell_type": "code",
   "execution_count": 35,
   "metadata": {},
   "outputs": [
    {
     "name": "stdout",
     "output_type": "stream",
     "text": [
      "Features have been counted\n",
      "Count data has been saved\n",
      "Features have been counted\n",
      "Count data has been saved\n",
      "Features have been counted\n",
      "Count data has been saved\n",
      "Features have been counted\n",
      "Count data has been saved\n",
      "Features have been counted\n",
      "Count data has been saved\n"
     ]
    }
   ],
   "source": [
    "# Use 'for' loop to iterate over the files and count the features\n",
    "\n",
    "for gfile in gfiles:\n",
    "    count_features(gfile)"
   ]
  },
  {
   "cell_type": "markdown",
   "metadata": {},
   "source": [
    "#### Combine output file in a single CSV file"
   ]
  },
  {
   "cell_type": "code",
   "execution_count": 1,
   "metadata": {},
   "outputs": [],
   "source": [
    "# import libraries\n",
    "\n",
    "import glob\n",
    "from Bio import SeqIO\n",
    "from collections import Counter\n",
    "import pandas as pd\n",
    "import os"
   ]
  },
  {
   "cell_type": "code",
   "execution_count": 2,
   "metadata": {},
   "outputs": [],
   "source": [
    "file_directory = \"D:/Bionome Internship/Bioinformatics Practicals/BioPython/GB Files\""
   ]
  },
  {
   "cell_type": "code",
   "execution_count": 3,
   "metadata": {},
   "outputs": [
    {
     "data": {
      "text/plain": [
       "['D:/Bionome Internship/Bioinformatics Practicals/BioPython/GB Files\\\\AR465.gb',\n",
       " 'D:/Bionome Internship/Bioinformatics Practicals/BioPython/GB Files\\\\M48.gb',\n",
       " 'D:/Bionome Internship/Bioinformatics Practicals/BioPython/GB Files\\\\P10.gb',\n",
       " 'D:/Bionome Internship/Bioinformatics Practicals/BioPython/GB Files\\\\R50.gb',\n",
       " 'D:/Bionome Internship/Bioinformatics Practicals/BioPython/GB Files\\\\V521.gb']"
      ]
     },
     "execution_count": 3,
     "metadata": {},
     "output_type": "execute_result"
    }
   ],
   "source": [
    "# Get the filenames\n",
    "gfiles =  glob.glob(\"%s/*.gb\"%file_directory)\n",
    "gfiles"
   ]
  },
  {
   "cell_type": "code",
   "execution_count": 5,
   "metadata": {},
   "outputs": [],
   "source": [
    "# function to read genbank files and get the features\n",
    "def read_file(gfile):\n",
    "    genbank_object = SeqIO.read(gfile, 'gb')\n",
    "    features = genbank_object.features\n",
    "    feature_types = [feature.type for feature in features]\n",
    "    return feature_types"
   ]
  },
  {
   "cell_type": "code",
   "execution_count": 6,
   "metadata": {},
   "outputs": [],
   "source": [
    "# Count features of the genbank files\n",
    "def count_features(feature_types):\n",
    "    feature_count = Counter(feature_types)\n",
    "    print('Features have been counted')\n",
    "    return feature_count"
   ]
  },
  {
   "cell_type": "code",
   "execution_count": 7,
   "metadata": {},
   "outputs": [],
   "source": [
    "# function to identify features in the genbank \n",
    "def scan_all_features(files):\n",
    "    allfeatures = []\n",
    "    for gfile in gfiles:\n",
    "        feature_types = read_file(gfile)\n",
    "        allfeatures.extend(feature_types)\n",
    "\n",
    "    allfeatures = set(allfeatures)\n",
    "    allfeatures = list(allfeatures)\n",
    "    print('All features have been identified')\n",
    "    return allfeatures   "
   ]
  },
  {
   "cell_type": "code",
   "execution_count": 8,
   "metadata": {},
   "outputs": [
    {
     "name": "stdout",
     "output_type": "stream",
     "text": [
      "All features have been identified\n"
     ]
    }
   ],
   "source": [
    "# Get all features\n",
    " \n",
    "allfeatures = scan_all_features(gfiles)"
   ]
  },
  {
   "cell_type": "code",
   "execution_count": 9,
   "metadata": {},
   "outputs": [
    {
     "name": "stdout",
     "output_type": "stream",
     "text": [
      "['CDS', 'regulatory', 'misc_binding', 'rRNA', 'tRNA', 'ncRNA', 'gene', 'tmRNA', 'source']\n"
     ]
    }
   ],
   "source": [
    "print(allfeatures)"
   ]
  },
  {
   "cell_type": "code",
   "execution_count": 10,
   "metadata": {},
   "outputs": [],
   "source": [
    "# Create an empty list to store the counts\n",
    "\n",
    "allfeature_count = []"
   ]
  },
  {
   "cell_type": "code",
   "execution_count": 11,
   "metadata": {},
   "outputs": [
    {
     "name": "stdout",
     "output_type": "stream",
     "text": [
      "Features have been counted\n",
      "Features have been counted\n",
      "Features have been counted\n",
      "Features have been counted\n",
      "Features have been counted\n"
     ]
    }
   ],
   "source": [
    "# for loop to iterate over the files and count the features\n",
    "\n",
    "for gfile in gfiles:\n",
    "    directory,filename = os.path.split(gfile)\n",
    "    filename = filename.strip('.gb')\n",
    "    feature_types = read_file(gfile)\n",
    "    feature_count = count_features(feature_types)\n",
    "    temp_count=[]\n",
    "\n",
    "    temp_count.append(filename)\n",
    "\n",
    "    for feature in allfeatures:\n",
    "        if feature in feature_count.keys():\n",
    "            temp_count.append(feature_count[feature])\n",
    "        else:\n",
    "            temp_count.append(0)\n",
    "\n",
    "    allfeature_count.append(temp_count)\n"
   ]
  },
  {
   "cell_type": "code",
   "execution_count": 12,
   "metadata": {},
   "outputs": [
    {
     "data": {
      "text/plain": [
       "5"
      ]
     },
     "execution_count": 12,
     "metadata": {},
     "output_type": "execute_result"
    }
   ],
   "source": [
    "len(allfeature_count)"
   ]
  },
  {
   "cell_type": "code",
   "execution_count": 13,
   "metadata": {},
   "outputs": [
    {
     "data": {
      "text/plain": [
       "['AR465', 2740, 0, 0, 19, 60, 0, 2819, 0, 1]"
      ]
     },
     "execution_count": 13,
     "metadata": {},
     "output_type": "execute_result"
    }
   ],
   "source": [
    "allfeature_count[0]"
   ]
  },
  {
   "cell_type": "code",
   "execution_count": 14,
   "metadata": {},
   "outputs": [
    {
     "data": {
      "text/plain": [
       "['M48', 3171, 10, 0, 16, 60, 3, 3251, 1, 1]"
      ]
     },
     "execution_count": 14,
     "metadata": {},
     "output_type": "execute_result"
    }
   ],
   "source": [
    "allfeature_count[1]"
   ]
  },
  {
   "cell_type": "code",
   "execution_count": 15,
   "metadata": {},
   "outputs": [
    {
     "name": "stdout",
     "output_type": "stream",
     "text": [
      "['CDS', 'regulatory', 'misc_binding', 'rRNA', 'tRNA', 'ncRNA', 'gene', 'tmRNA', 'source']\n"
     ]
    }
   ],
   "source": [
    "print(allfeatures)"
   ]
  },
  {
   "cell_type": "code",
   "execution_count": 16,
   "metadata": {},
   "outputs": [
    {
     "data": {
      "text/plain": [
       "[['AR465', 2740, 0, 0, 19, 60, 0, 2819, 0, 1],\n",
       " ['M48', 3171, 10, 0, 16, 60, 3, 3251, 1, 1],\n",
       " ['P10', 3179, 10, 0, 8, 59, 3, 3250, 1, 1],\n",
       " ['R50', 2935, 10, 0, 10, 59, 3, 3008, 1, 1],\n",
       " ['V521', 3114, 0, 10, 16, 60, 3, 3194, 1, 1]]"
      ]
     },
     "execution_count": 16,
     "metadata": {},
     "output_type": "execute_result"
    }
   ],
   "source": [
    "allfeature_count"
   ]
  },
  {
   "cell_type": "code",
   "execution_count": 17,
   "metadata": {},
   "outputs": [],
   "source": [
    "# Create Columns for the dataframe\n",
    "\n",
    "columns = []\n",
    "columns.append('File')\n",
    "columns.extend(allfeatures)"
   ]
  },
  {
   "cell_type": "code",
   "execution_count": 18,
   "metadata": {},
   "outputs": [
    {
     "data": {
      "text/plain": [
       "['File',\n",
       " 'CDS',\n",
       " 'regulatory',\n",
       " 'misc_binding',\n",
       " 'rRNA',\n",
       " 'tRNA',\n",
       " 'ncRNA',\n",
       " 'gene',\n",
       " 'tmRNA',\n",
       " 'source']"
      ]
     },
     "execution_count": 18,
     "metadata": {},
     "output_type": "execute_result"
    }
   ],
   "source": [
    "columns"
   ]
  },
  {
   "cell_type": "code",
   "execution_count": 19,
   "metadata": {},
   "outputs": [],
   "source": [
    "# Create dataframe using pandas\n",
    "\n",
    "dataframe = pd.DataFrame(allfeature_count, columns=columns)"
   ]
  },
  {
   "cell_type": "code",
   "execution_count": 21,
   "metadata": {},
   "outputs": [
    {
     "data": {
      "text/html": [
       "<div>\n",
       "<style scoped>\n",
       "    .dataframe tbody tr th:only-of-type {\n",
       "        vertical-align: middle;\n",
       "    }\n",
       "\n",
       "    .dataframe tbody tr th {\n",
       "        vertical-align: top;\n",
       "    }\n",
       "\n",
       "    .dataframe thead th {\n",
       "        text-align: right;\n",
       "    }\n",
       "</style>\n",
       "<table border=\"1\" class=\"dataframe\">\n",
       "  <thead>\n",
       "    <tr style=\"text-align: right;\">\n",
       "      <th></th>\n",
       "      <th>File</th>\n",
       "      <th>CDS</th>\n",
       "      <th>regulatory</th>\n",
       "      <th>misc_binding</th>\n",
       "      <th>rRNA</th>\n",
       "      <th>tRNA</th>\n",
       "      <th>ncRNA</th>\n",
       "      <th>gene</th>\n",
       "      <th>tmRNA</th>\n",
       "      <th>source</th>\n",
       "    </tr>\n",
       "  </thead>\n",
       "  <tbody>\n",
       "    <tr>\n",
       "      <th>0</th>\n",
       "      <td>AR465</td>\n",
       "      <td>2740</td>\n",
       "      <td>0</td>\n",
       "      <td>0</td>\n",
       "      <td>19</td>\n",
       "      <td>60</td>\n",
       "      <td>0</td>\n",
       "      <td>2819</td>\n",
       "      <td>0</td>\n",
       "      <td>1</td>\n",
       "    </tr>\n",
       "    <tr>\n",
       "      <th>1</th>\n",
       "      <td>M48</td>\n",
       "      <td>3171</td>\n",
       "      <td>10</td>\n",
       "      <td>0</td>\n",
       "      <td>16</td>\n",
       "      <td>60</td>\n",
       "      <td>3</td>\n",
       "      <td>3251</td>\n",
       "      <td>1</td>\n",
       "      <td>1</td>\n",
       "    </tr>\n",
       "    <tr>\n",
       "      <th>2</th>\n",
       "      <td>P10</td>\n",
       "      <td>3179</td>\n",
       "      <td>10</td>\n",
       "      <td>0</td>\n",
       "      <td>8</td>\n",
       "      <td>59</td>\n",
       "      <td>3</td>\n",
       "      <td>3250</td>\n",
       "      <td>1</td>\n",
       "      <td>1</td>\n",
       "    </tr>\n",
       "    <tr>\n",
       "      <th>3</th>\n",
       "      <td>R50</td>\n",
       "      <td>2935</td>\n",
       "      <td>10</td>\n",
       "      <td>0</td>\n",
       "      <td>10</td>\n",
       "      <td>59</td>\n",
       "      <td>3</td>\n",
       "      <td>3008</td>\n",
       "      <td>1</td>\n",
       "      <td>1</td>\n",
       "    </tr>\n",
       "    <tr>\n",
       "      <th>4</th>\n",
       "      <td>V521</td>\n",
       "      <td>3114</td>\n",
       "      <td>0</td>\n",
       "      <td>10</td>\n",
       "      <td>16</td>\n",
       "      <td>60</td>\n",
       "      <td>3</td>\n",
       "      <td>3194</td>\n",
       "      <td>1</td>\n",
       "      <td>1</td>\n",
       "    </tr>\n",
       "  </tbody>\n",
       "</table>\n",
       "</div>"
      ],
      "text/plain": [
       "    File   CDS  regulatory  misc_binding  rRNA  tRNA  ncRNA  gene  tmRNA  \\\n",
       "0  AR465  2740           0             0    19    60      0  2819      0   \n",
       "1    M48  3171          10             0    16    60      3  3251      1   \n",
       "2    P10  3179          10             0     8    59      3  3250      1   \n",
       "3    R50  2935          10             0    10    59      3  3008      1   \n",
       "4   V521  3114           0            10    16    60      3  3194      1   \n",
       "\n",
       "   source  \n",
       "0       1  \n",
       "1       1  \n",
       "2       1  \n",
       "3       1  \n",
       "4       1  "
      ]
     },
     "execution_count": 21,
     "metadata": {},
     "output_type": "execute_result"
    }
   ],
   "source": [
    "dataframe"
   ]
  },
  {
   "cell_type": "code",
   "execution_count": 22,
   "metadata": {},
   "outputs": [],
   "source": [
    "# set index to 'File'\n",
    "\n",
    "final_data = dataframe.set_index('File')"
   ]
  },
  {
   "cell_type": "code",
   "execution_count": 23,
   "metadata": {},
   "outputs": [
    {
     "data": {
      "text/html": [
       "<div>\n",
       "<style scoped>\n",
       "    .dataframe tbody tr th:only-of-type {\n",
       "        vertical-align: middle;\n",
       "    }\n",
       "\n",
       "    .dataframe tbody tr th {\n",
       "        vertical-align: top;\n",
       "    }\n",
       "\n",
       "    .dataframe thead th {\n",
       "        text-align: right;\n",
       "    }\n",
       "</style>\n",
       "<table border=\"1\" class=\"dataframe\">\n",
       "  <thead>\n",
       "    <tr style=\"text-align: right;\">\n",
       "      <th></th>\n",
       "      <th>CDS</th>\n",
       "      <th>regulatory</th>\n",
       "      <th>misc_binding</th>\n",
       "      <th>rRNA</th>\n",
       "      <th>tRNA</th>\n",
       "      <th>ncRNA</th>\n",
       "      <th>gene</th>\n",
       "      <th>tmRNA</th>\n",
       "      <th>source</th>\n",
       "    </tr>\n",
       "    <tr>\n",
       "      <th>File</th>\n",
       "      <th></th>\n",
       "      <th></th>\n",
       "      <th></th>\n",
       "      <th></th>\n",
       "      <th></th>\n",
       "      <th></th>\n",
       "      <th></th>\n",
       "      <th></th>\n",
       "      <th></th>\n",
       "    </tr>\n",
       "  </thead>\n",
       "  <tbody>\n",
       "    <tr>\n",
       "      <th>AR465</th>\n",
       "      <td>2740</td>\n",
       "      <td>0</td>\n",
       "      <td>0</td>\n",
       "      <td>19</td>\n",
       "      <td>60</td>\n",
       "      <td>0</td>\n",
       "      <td>2819</td>\n",
       "      <td>0</td>\n",
       "      <td>1</td>\n",
       "    </tr>\n",
       "    <tr>\n",
       "      <th>M48</th>\n",
       "      <td>3171</td>\n",
       "      <td>10</td>\n",
       "      <td>0</td>\n",
       "      <td>16</td>\n",
       "      <td>60</td>\n",
       "      <td>3</td>\n",
       "      <td>3251</td>\n",
       "      <td>1</td>\n",
       "      <td>1</td>\n",
       "    </tr>\n",
       "    <tr>\n",
       "      <th>P10</th>\n",
       "      <td>3179</td>\n",
       "      <td>10</td>\n",
       "      <td>0</td>\n",
       "      <td>8</td>\n",
       "      <td>59</td>\n",
       "      <td>3</td>\n",
       "      <td>3250</td>\n",
       "      <td>1</td>\n",
       "      <td>1</td>\n",
       "    </tr>\n",
       "    <tr>\n",
       "      <th>R50</th>\n",
       "      <td>2935</td>\n",
       "      <td>10</td>\n",
       "      <td>0</td>\n",
       "      <td>10</td>\n",
       "      <td>59</td>\n",
       "      <td>3</td>\n",
       "      <td>3008</td>\n",
       "      <td>1</td>\n",
       "      <td>1</td>\n",
       "    </tr>\n",
       "    <tr>\n",
       "      <th>V521</th>\n",
       "      <td>3114</td>\n",
       "      <td>0</td>\n",
       "      <td>10</td>\n",
       "      <td>16</td>\n",
       "      <td>60</td>\n",
       "      <td>3</td>\n",
       "      <td>3194</td>\n",
       "      <td>1</td>\n",
       "      <td>1</td>\n",
       "    </tr>\n",
       "  </tbody>\n",
       "</table>\n",
       "</div>"
      ],
      "text/plain": [
       "        CDS  regulatory  misc_binding  rRNA  tRNA  ncRNA  gene  tmRNA  source\n",
       "File                                                                         \n",
       "AR465  2740           0             0    19    60      0  2819      0       1\n",
       "M48    3171          10             0    16    60      3  3251      1       1\n",
       "P10    3179          10             0     8    59      3  3250      1       1\n",
       "R50    2935          10             0    10    59      3  3008      1       1\n",
       "V521   3114           0            10    16    60      3  3194      1       1"
      ]
     },
     "execution_count": 23,
     "metadata": {},
     "output_type": "execute_result"
    }
   ],
   "source": [
    "final_data"
   ]
  },
  {
   "cell_type": "code",
   "execution_count": 24,
   "metadata": {},
   "outputs": [],
   "source": [
    "# removing some columns from dataframe\n",
    "\n",
    "columns_to_delete = ['source', 'misc_binding', 'regulatory']\n",
    "final_data.drop(columns=columns_to_delete, inplace=True)"
   ]
  },
  {
   "cell_type": "code",
   "execution_count": 25,
   "metadata": {},
   "outputs": [
    {
     "data": {
      "text/html": [
       "<div>\n",
       "<style scoped>\n",
       "    .dataframe tbody tr th:only-of-type {\n",
       "        vertical-align: middle;\n",
       "    }\n",
       "\n",
       "    .dataframe tbody tr th {\n",
       "        vertical-align: top;\n",
       "    }\n",
       "\n",
       "    .dataframe thead th {\n",
       "        text-align: right;\n",
       "    }\n",
       "</style>\n",
       "<table border=\"1\" class=\"dataframe\">\n",
       "  <thead>\n",
       "    <tr style=\"text-align: right;\">\n",
       "      <th></th>\n",
       "      <th>CDS</th>\n",
       "      <th>rRNA</th>\n",
       "      <th>tRNA</th>\n",
       "      <th>ncRNA</th>\n",
       "      <th>gene</th>\n",
       "      <th>tmRNA</th>\n",
       "    </tr>\n",
       "    <tr>\n",
       "      <th>File</th>\n",
       "      <th></th>\n",
       "      <th></th>\n",
       "      <th></th>\n",
       "      <th></th>\n",
       "      <th></th>\n",
       "      <th></th>\n",
       "    </tr>\n",
       "  </thead>\n",
       "  <tbody>\n",
       "    <tr>\n",
       "      <th>AR465</th>\n",
       "      <td>2740</td>\n",
       "      <td>19</td>\n",
       "      <td>60</td>\n",
       "      <td>0</td>\n",
       "      <td>2819</td>\n",
       "      <td>0</td>\n",
       "    </tr>\n",
       "    <tr>\n",
       "      <th>M48</th>\n",
       "      <td>3171</td>\n",
       "      <td>16</td>\n",
       "      <td>60</td>\n",
       "      <td>3</td>\n",
       "      <td>3251</td>\n",
       "      <td>1</td>\n",
       "    </tr>\n",
       "    <tr>\n",
       "      <th>P10</th>\n",
       "      <td>3179</td>\n",
       "      <td>8</td>\n",
       "      <td>59</td>\n",
       "      <td>3</td>\n",
       "      <td>3250</td>\n",
       "      <td>1</td>\n",
       "    </tr>\n",
       "    <tr>\n",
       "      <th>R50</th>\n",
       "      <td>2935</td>\n",
       "      <td>10</td>\n",
       "      <td>59</td>\n",
       "      <td>3</td>\n",
       "      <td>3008</td>\n",
       "      <td>1</td>\n",
       "    </tr>\n",
       "    <tr>\n",
       "      <th>V521</th>\n",
       "      <td>3114</td>\n",
       "      <td>16</td>\n",
       "      <td>60</td>\n",
       "      <td>3</td>\n",
       "      <td>3194</td>\n",
       "      <td>1</td>\n",
       "    </tr>\n",
       "  </tbody>\n",
       "</table>\n",
       "</div>"
      ],
      "text/plain": [
       "        CDS  rRNA  tRNA  ncRNA  gene  tmRNA\n",
       "File                                       \n",
       "AR465  2740    19    60      0  2819      0\n",
       "M48    3171    16    60      3  3251      1\n",
       "P10    3179     8    59      3  3250      1\n",
       "R50    2935    10    59      3  3008      1\n",
       "V521   3114    16    60      3  3194      1"
      ]
     },
     "execution_count": 25,
     "metadata": {},
     "output_type": "execute_result"
    }
   ],
   "source": [
    "final_data"
   ]
  },
  {
   "cell_type": "code",
   "execution_count": 26,
   "metadata": {},
   "outputs": [
    {
     "data": {
      "text/plain": [
       "CDS      3114\n",
       "rRNA       16\n",
       "tRNA       60\n",
       "ncRNA       3\n",
       "gene     3194\n",
       "tmRNA       1\n",
       "Name: V521, dtype: int64"
      ]
     },
     "execution_count": 26,
     "metadata": {},
     "output_type": "execute_result"
    }
   ],
   "source": [
    "final_data.loc['V521',:]"
   ]
  },
  {
   "cell_type": "code",
   "execution_count": 27,
   "metadata": {},
   "outputs": [
    {
     "data": {
      "text/plain": [
       "3194"
      ]
     },
     "execution_count": 27,
     "metadata": {},
     "output_type": "execute_result"
    }
   ],
   "source": [
    "final_data.loc['V521', 'gene']"
   ]
  },
  {
   "cell_type": "code",
   "execution_count": 28,
   "metadata": {},
   "outputs": [],
   "source": [
    "# To save final_data dataframe in outputfile define the output filename\n",
    "\n",
    "outputfile = \"D:/Bionome Internship/Bioinformatics Practicals/BioPython/GB Files/FeatureCount.csv\"\n",
    "\n"
   ]
  },
  {
   "cell_type": "code",
   "execution_count": 29,
   "metadata": {},
   "outputs": [],
   "source": [
    "# save the final_data to a csv file format\n",
    "\n",
    "final_data.to_csv(outputfile,index=True)"
   ]
  },
  {
   "cell_type": "code",
   "execution_count": null,
   "metadata": {},
   "outputs": [],
   "source": []
  }
 ],
 "metadata": {
  "kernelspec": {
   "display_name": "Python 3",
   "language": "python",
   "name": "python3"
  },
  "language_info": {
   "codemirror_mode": {
    "name": "ipython",
    "version": 3
   },
   "file_extension": ".py",
   "mimetype": "text/x-python",
   "name": "python",
   "nbconvert_exporter": "python",
   "pygments_lexer": "ipython3",
   "version": "3.12.5"
  }
 },
 "nbformat": 4,
 "nbformat_minor": 2
}
