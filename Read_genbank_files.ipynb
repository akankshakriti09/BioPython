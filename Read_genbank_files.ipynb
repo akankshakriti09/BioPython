{
 "cells": [
  {
   "cell_type": "markdown",
   "metadata": {},
   "source": [
    "#### Read GenBank files in Python\n",
    "\n",
    "- Genbank files store information that include\n",
    "  - DNA/Protein sequence.\n",
    "  - Annotations of the sequences\n",
    "- Contains more information than fasta format\n",
    "- Genbank files can be read using Biopython package"
   ]
  },
  {
   "cell_type": "code",
   "execution_count": 1,
   "metadata": {},
   "outputs": [],
   "source": [
    "from Bio import SeqIO"
   ]
  },
  {
   "cell_type": "code",
   "execution_count": 2,
   "metadata": {},
   "outputs": [],
   "source": [
    "file_path = \"D:/Bionome Internship/Bioinformatics Practicals/BioPython/sequence.gb\""
   ]
  },
  {
   "cell_type": "code",
   "execution_count": 3,
   "metadata": {},
   "outputs": [],
   "source": [
    "# Read GenBank file\n",
    "\n",
    "genbank_object = SeqIO.read(file_path, 'gb')"
   ]
  },
  {
   "cell_type": "code",
   "execution_count": 4,
   "metadata": {},
   "outputs": [
    {
     "name": "stdout",
     "output_type": "stream",
     "text": [
      "CP000325.1\n"
     ]
    }
   ],
   "source": [
    "record_id = genbank_object.id\n",
    "print(record_id)"
   ]
  },
  {
   "cell_type": "code",
   "execution_count": 5,
   "metadata": {},
   "outputs": [
    {
     "name": "stdout",
     "output_type": "stream",
     "text": [
      "CP000325\n"
     ]
    }
   ],
   "source": [
    "record_name = genbank_object.name\n",
    "print(record_name)"
   ]
  },
  {
   "cell_type": "code",
   "execution_count": 6,
   "metadata": {},
   "outputs": [
    {
     "name": "stdout",
     "output_type": "stream",
     "text": [
      "5631606\n"
     ]
    }
   ],
   "source": [
    "record_seq = genbank_object.seq\n",
    "sequence_length = len(record_seq)\n",
    "print(sequence_length)"
   ]
  },
  {
   "cell_type": "code",
   "execution_count": 7,
   "metadata": {},
   "outputs": [
    {
     "name": "stdout",
     "output_type": "stream",
     "text": [
      "Mycobacterium ulcerans Agy99, complete genome\n"
     ]
    }
   ],
   "source": [
    "description = genbank_object.description\n",
    "print(description)"
   ]
  },
  {
   "cell_type": "code",
   "execution_count": 8,
   "metadata": {},
   "outputs": [
    {
     "name": "stdout",
     "output_type": "stream",
     "text": [
      "{'molecule_type': 'DNA', 'topology': 'circular', 'data_file_division': 'BCT', 'date': '30-JAN-2014', 'accessions': ['CP000325'], 'sequence_version': 1, 'keywords': [''], 'source': 'Mycobacterium ulcerans Agy99', 'organism': 'Mycobacterium ulcerans Agy99', 'taxonomy': ['Bacteria', 'Actinomycetota', 'Actinomycetes', 'Mycobacteriales', 'Mycobacteriaceae', 'Mycobacterium', 'Mycobacterium ulcerans group'], 'references': [Reference(title='Reductive evolution and niche adaptation inferred from the genome of Mycobacterium ulcerans, the causative agent of Buruli ulcer', ...), Reference(title='Direct Submission', ...)], 'comment': 'Source DNA is available from Dr Tim Stinear, Department\\nMicrobiology, Monash University, Melbourne, Australia,\\ntim.stinear@med.monash.edu.au; Bacteria are available from Dr Janet\\nFyfe, Mycobacterial Reference Laboratory, Victorian Infectious\\nDiseases Reference Laboratory, Melbourne, Australia,\\nJanet.Fyfe@mh.org.au.'}\n"
     ]
    }
   ],
   "source": [
    "annotations = genbank_object.annotations\n",
    "print(annotations)"
   ]
  },
  {
   "cell_type": "code",
   "execution_count": 9,
   "metadata": {},
   "outputs": [],
   "source": [
    "features = genbank_object.features\n",
    "feature_types = [ feature.type for feature in features ]\n",
    "feature_types = set(feature_types)\n",
    "feature_types = list(feature_types)"
   ]
  },
  {
   "cell_type": "code",
   "execution_count": 11,
   "metadata": {},
   "outputs": [
    {
     "name": "stdout",
     "output_type": "stream",
     "text": [
      "['gene', 'rRNA', 'mobile_element', 'repeat_region', 'misc_feature', 'misc_RNA', 'source', 'CDS', 'tRNA']\n"
     ]
    }
   ],
   "source": [
    "print(feature_types)"
   ]
  },
  {
   "cell_type": "code",
   "execution_count": 12,
   "metadata": {},
   "outputs": [],
   "source": [
    "feature_types = ['CDS', 'gene', 'mobile_element', 'tRNA' , 'rRNA']"
   ]
  },
  {
   "cell_type": "code",
   "execution_count": 13,
   "metadata": {},
   "outputs": [
    {
     "name": "stdout",
     "output_type": "stream",
     "text": [
      "['CDS', 'gene', 'mobile_element', 'tRNA', 'rRNA']\n"
     ]
    }
   ],
   "source": [
    "print(feature_types)"
   ]
  },
  {
   "cell_type": "code",
   "execution_count": 15,
   "metadata": {},
   "outputs": [
    {
     "name": "stdout",
     "output_type": "stream",
     "text": [
      "Number of Features: 4160\n",
      "Number of Features: 4981\n",
      "Number of Features: 292\n",
      "Number of Features: 45\n",
      "Number of Features: 3\n"
     ]
    }
   ],
   "source": [
    "for feature in feature_types:\n",
    "    all_features = [ i for i in features if i.type == feature ]\n",
    "    number_of_fearures = len(all_features)\n",
    "    print('Number of Features:', number_of_fearures)"
   ]
  },
  {
   "cell_type": "code",
   "execution_count": 17,
   "metadata": {},
   "outputs": [
    {
     "name": "stdout",
     "output_type": "stream",
     "text": [
      "CDS : 4160\n",
      "gene : 4981\n",
      "mobile_element : 292\n",
      "tRNA : 45\n",
      "rRNA : 3\n"
     ]
    }
   ],
   "source": [
    "for feature in feature_types:\n",
    "    all_features = [ i for i in features if i.type == feature ]\n",
    "    number_of_fearures = len(all_features)\n",
    "    print('%s : %d'%(feature,number_of_fearures))"
   ]
  },
  {
   "cell_type": "code",
   "execution_count": null,
   "metadata": {},
   "outputs": [],
   "source": []
  }
 ],
 "metadata": {
  "kernelspec": {
   "display_name": "Python 3",
   "language": "python",
   "name": "python3"
  },
  "language_info": {
   "codemirror_mode": {
    "name": "ipython",
    "version": 3
   },
   "file_extension": ".py",
   "mimetype": "text/x-python",
   "name": "python",
   "nbconvert_exporter": "python",
   "pygments_lexer": "ipython3",
   "version": "3.12.5"
  }
 },
 "nbformat": 4,
 "nbformat_minor": 2
}
